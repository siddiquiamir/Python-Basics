{
 "cells": [
  {
   "cell_type": "code",
   "execution_count": 1,
   "metadata": {},
   "outputs": [],
   "source": [
    "import numpy as np\n",
    "import pandas as pd\n",
    "from sklearn.cluster import KMeans\n",
    "from sklearn.preprocessing import MinMaxScaler\n",
    "from sklearn.metrics import silhouette_score\n",
    "import matplotlib.pyplot as plt\n",
    "%matplotlib inline"
   ]
  },
  {
   "cell_type": "code",
   "execution_count": 2,
   "metadata": {},
   "outputs": [],
   "source": [
    "# Import dataframe\n",
    "df = pd.read_csv(\"E:\\\\Mozila Firefox\\\\train_data.csv\")"
   ]
  },
  {
   "cell_type": "code",
   "execution_count": 3,
   "metadata": {},
   "outputs": [
    {
     "data": {
      "text/html": [
       "<div>\n",
       "<style scoped>\n",
       "    .dataframe tbody tr th:only-of-type {\n",
       "        vertical-align: middle;\n",
       "    }\n",
       "\n",
       "    .dataframe tbody tr th {\n",
       "        vertical-align: top;\n",
       "    }\n",
       "\n",
       "    .dataframe thead th {\n",
       "        text-align: right;\n",
       "    }\n",
       "</style>\n",
       "<table border=\"1\" class=\"dataframe\">\n",
       "  <thead>\n",
       "    <tr style=\"text-align: right;\">\n",
       "      <th></th>\n",
       "      <th>id</th>\n",
       "      <th>txnrefid</th>\n",
       "      <th>custno</th>\n",
       "      <th>acctno</th>\n",
       "      <th>channelcode</th>\n",
       "      <th>overallqual</th>\n",
       "      <th>grlivarea</th>\n",
       "      <th>garagecars</th>\n",
       "      <th>ageofhouse</th>\n",
       "      <th>saleprice</th>\n",
       "    </tr>\n",
       "  </thead>\n",
       "  <tbody>\n",
       "    <tr>\n",
       "      <th>0</th>\n",
       "      <td>1000</td>\n",
       "      <td>18ba263b-25c0-4b25-a57d-531c8a8098ff</td>\n",
       "      <td>12341198</td>\n",
       "      <td>45671880</td>\n",
       "      <td>LOAN</td>\n",
       "      <td>7</td>\n",
       "      <td>1710</td>\n",
       "      <td>2</td>\n",
       "      <td>17</td>\n",
       "      <td>208500</td>\n",
       "    </tr>\n",
       "    <tr>\n",
       "      <th>1</th>\n",
       "      <td>1001</td>\n",
       "      <td>5c154349-6e96-4785-ac9a-414bdc5017d6</td>\n",
       "      <td>12341086</td>\n",
       "      <td>45671557</td>\n",
       "      <td>LOAN</td>\n",
       "      <td>6</td>\n",
       "      <td>1262</td>\n",
       "      <td>2</td>\n",
       "      <td>44</td>\n",
       "      <td>181500</td>\n",
       "    </tr>\n",
       "    <tr>\n",
       "      <th>2</th>\n",
       "      <td>1002</td>\n",
       "      <td>43ef5bc1-2ec8-4e74-ac17-ac33b429a47e</td>\n",
       "      <td>12341187</td>\n",
       "      <td>45671158</td>\n",
       "      <td>LOAN</td>\n",
       "      <td>7</td>\n",
       "      <td>1786</td>\n",
       "      <td>2</td>\n",
       "      <td>19</td>\n",
       "      <td>223500</td>\n",
       "    </tr>\n",
       "    <tr>\n",
       "      <th>3</th>\n",
       "      <td>1003</td>\n",
       "      <td>b0e41298-a0c3-4a0f-8e54-6be5523cfeae</td>\n",
       "      <td>12341242</td>\n",
       "      <td>45671999</td>\n",
       "      <td>LOAN</td>\n",
       "      <td>7</td>\n",
       "      <td>1717</td>\n",
       "      <td>3</td>\n",
       "      <td>105</td>\n",
       "      <td>140000</td>\n",
       "    </tr>\n",
       "    <tr>\n",
       "      <th>4</th>\n",
       "      <td>1004</td>\n",
       "      <td>ba177687-6c1c-4548-9481-ccb9b25eea07</td>\n",
       "      <td>12341047</td>\n",
       "      <td>45671584</td>\n",
       "      <td>LOAN</td>\n",
       "      <td>8</td>\n",
       "      <td>2198</td>\n",
       "      <td>3</td>\n",
       "      <td>20</td>\n",
       "      <td>250000</td>\n",
       "    </tr>\n",
       "  </tbody>\n",
       "</table>\n",
       "</div>"
      ],
      "text/plain": [
       "     id                              txnrefid    custno    acctno channelcode  \\\n",
       "0  1000  18ba263b-25c0-4b25-a57d-531c8a8098ff  12341198  45671880        LOAN   \n",
       "1  1001  5c154349-6e96-4785-ac9a-414bdc5017d6  12341086  45671557        LOAN   \n",
       "2  1002  43ef5bc1-2ec8-4e74-ac17-ac33b429a47e  12341187  45671158        LOAN   \n",
       "3  1003  b0e41298-a0c3-4a0f-8e54-6be5523cfeae  12341242  45671999        LOAN   \n",
       "4  1004  ba177687-6c1c-4548-9481-ccb9b25eea07  12341047  45671584        LOAN   \n",
       "\n",
       "   overallqual  grlivarea  garagecars  ageofhouse  saleprice  \n",
       "0            7       1710           2          17     208500  \n",
       "1            6       1262           2          44     181500  \n",
       "2            7       1786           2          19     223500  \n",
       "3            7       1717           3         105     140000  \n",
       "4            8       2198           3          20     250000  "
      ]
     },
     "execution_count": 3,
     "metadata": {},
     "output_type": "execute_result"
    }
   ],
   "source": [
    "df.head()"
   ]
  },
  {
   "cell_type": "code",
   "execution_count": 4,
   "metadata": {},
   "outputs": [
    {
     "data": {
      "text/html": [
       "<div>\n",
       "<style scoped>\n",
       "    .dataframe tbody tr th:only-of-type {\n",
       "        vertical-align: middle;\n",
       "    }\n",
       "\n",
       "    .dataframe tbody tr th {\n",
       "        vertical-align: top;\n",
       "    }\n",
       "\n",
       "    .dataframe thead th {\n",
       "        text-align: right;\n",
       "    }\n",
       "</style>\n",
       "<table border=\"1\" class=\"dataframe\">\n",
       "  <thead>\n",
       "    <tr style=\"text-align: right;\">\n",
       "      <th></th>\n",
       "      <th>id</th>\n",
       "      <th>custno</th>\n",
       "      <th>acctno</th>\n",
       "      <th>overallqual</th>\n",
       "      <th>grlivarea</th>\n",
       "      <th>garagecars</th>\n",
       "      <th>ageofhouse</th>\n",
       "      <th>saleprice</th>\n",
       "    </tr>\n",
       "  </thead>\n",
       "  <tbody>\n",
       "    <tr>\n",
       "      <th>0</th>\n",
       "      <td>1000</td>\n",
       "      <td>12341198</td>\n",
       "      <td>45671880</td>\n",
       "      <td>7</td>\n",
       "      <td>1710</td>\n",
       "      <td>2</td>\n",
       "      <td>17</td>\n",
       "      <td>208500</td>\n",
       "    </tr>\n",
       "    <tr>\n",
       "      <th>1</th>\n",
       "      <td>1001</td>\n",
       "      <td>12341086</td>\n",
       "      <td>45671557</td>\n",
       "      <td>6</td>\n",
       "      <td>1262</td>\n",
       "      <td>2</td>\n",
       "      <td>44</td>\n",
       "      <td>181500</td>\n",
       "    </tr>\n",
       "    <tr>\n",
       "      <th>2</th>\n",
       "      <td>1002</td>\n",
       "      <td>12341187</td>\n",
       "      <td>45671158</td>\n",
       "      <td>7</td>\n",
       "      <td>1786</td>\n",
       "      <td>2</td>\n",
       "      <td>19</td>\n",
       "      <td>223500</td>\n",
       "    </tr>\n",
       "    <tr>\n",
       "      <th>3</th>\n",
       "      <td>1003</td>\n",
       "      <td>12341242</td>\n",
       "      <td>45671999</td>\n",
       "      <td>7</td>\n",
       "      <td>1717</td>\n",
       "      <td>3</td>\n",
       "      <td>105</td>\n",
       "      <td>140000</td>\n",
       "    </tr>\n",
       "    <tr>\n",
       "      <th>4</th>\n",
       "      <td>1004</td>\n",
       "      <td>12341047</td>\n",
       "      <td>45671584</td>\n",
       "      <td>8</td>\n",
       "      <td>2198</td>\n",
       "      <td>3</td>\n",
       "      <td>20</td>\n",
       "      <td>250000</td>\n",
       "    </tr>\n",
       "  </tbody>\n",
       "</table>\n",
       "</div>"
      ],
      "text/plain": [
       "     id    custno    acctno  overallqual  grlivarea  garagecars  ageofhouse  \\\n",
       "0  1000  12341198  45671880            7       1710           2          17   \n",
       "1  1001  12341086  45671557            6       1262           2          44   \n",
       "2  1002  12341187  45671158            7       1786           2          19   \n",
       "3  1003  12341242  45671999            7       1717           3         105   \n",
       "4  1004  12341047  45671584            8       2198           3          20   \n",
       "\n",
       "   saleprice  \n",
       "0     208500  \n",
       "1     181500  \n",
       "2     223500  \n",
       "3     140000  \n",
       "4     250000  "
      ]
     },
     "execution_count": 4,
     "metadata": {},
     "output_type": "execute_result"
    }
   ],
   "source": [
    "df= df.drop([\"txnrefid\", \"channelcode\"], axis=1)\n",
    "df.head()"
   ]
  },
  {
   "cell_type": "code",
   "execution_count": 5,
   "metadata": {},
   "outputs": [
    {
     "data": {
      "text/plain": [
       "id             int64\n",
       "custno         int64\n",
       "acctno         int64\n",
       "overallqual    int64\n",
       "grlivarea      int64\n",
       "garagecars     int64\n",
       "ageofhouse     int64\n",
       "saleprice      int64\n",
       "dtype: object"
      ]
     },
     "execution_count": 5,
     "metadata": {},
     "output_type": "execute_result"
    }
   ],
   "source": [
    "df.dtypes"
   ]
  },
  {
   "cell_type": "markdown",
   "metadata": {},
   "source": [
    "#### Find Optimal Clusters"
   ]
  },
  {
   "cell_type": "code",
   "execution_count": 6,
   "metadata": {},
   "outputs": [
    {
     "data": {
      "text/plain": [
       "'\\nThe silhouette plot displays a measure of how close each point in one cluster is to points in the neighboring\\nclusters and thus provides a way to assess parameters like number of clusters visually.\\nThis measure has a range of [-1, 1].\\n\\nSilhouette coefficients (as these values are referred to as) near +1 indicate that the sample is far away from\\nthe neighboring clusters. A value of 0 indicates that the sample is on or very close to the decision boundary between\\ntwo neighboring clusters and negative values indicate that those samples might have been assigned to the wrong cluster.\\n\\n'"
      ]
     },
     "execution_count": 6,
     "metadata": {},
     "output_type": "execute_result"
    }
   ],
   "source": [
    "\"\"\"\n",
    "The silhouette plot displays a measure of how close each point in one cluster is to points in the neighboring\n",
    "clusters and thus provides a way to assess parameters like number of clusters visually.\n",
    "This measure has a range of [-1, 1].\n",
    "\n",
    "Silhouette coefficients (as these values are referred to as) near +1 indicate that the sample is far away from\n",
    "the neighboring clusters. A value of 0 indicates that the sample is on or very close to the decision boundary between\n",
    "two neighboring clusters and negative values indicate that those samples might have been assigned to the wrong cluster.\n",
    "\n",
    "\"\"\"\n"
   ]
  },
  {
   "cell_type": "code",
   "execution_count": 7,
   "metadata": {},
   "outputs": [
    {
     "name": "stdout",
     "output_type": "stream",
     "text": [
      "For n_clusters = 2, silhouette score is 0.6350548024810527)\n",
      "For n_clusters = 3, silhouette score is 0.5611654792718056)\n",
      "For n_clusters = 4, silhouette score is 0.5425475820576716)\n",
      "For n_clusters = 5, silhouette score is 0.5379232473321439)\n",
      "For n_clusters = 6, silhouette score is 0.537997387884636)\n",
      "For n_clusters = 7, silhouette score is 0.5424998731549984)\n",
      "For n_clusters = 8, silhouette score is 0.540722674487372)\n",
      "For n_clusters = 9, silhouette score is 0.5336460382973585)\n"
     ]
    }
   ],
   "source": [
    "range_n_clusters = list (range(2,10))\n",
    "for n_clusters in range_n_clusters:\n",
    "    clusterer = KMeans(n_clusters=n_clusters)\n",
    "    preds = clusterer.fit_predict(df)\n",
    "    centers = clusterer.cluster_centers_\n",
    "\n",
    "    score = silhouette_score(df, preds)\n",
    "    print(\"For n_clusters = {}, silhouette score is {})\".format(n_clusters, score))"
   ]
  },
  {
   "cell_type": "code",
   "execution_count": 8,
   "metadata": {},
   "outputs": [
    {
     "data": {
      "image/png": "[encoded data removed]",
      "text/plain": [
       "<Figure size 1152x576 with 1 Axes>"
      ]
     },
     "metadata": {
      "needs_background": "light"
     },
     "output_type": "display_data"
    }
   ],
   "source": [
    "distortions = []\n",
    "K = range(1,10)\n",
    "for k in K:\n",
    "    kmeanModel = KMeans(n_clusters=k)\n",
    "    kmeanModel.fit(df)\n",
    "    distortions.append(kmeanModel.inertia_)\n",
    "    \n",
    "plt.figure(figsize=(16,8))\n",
    "plt.plot(K, distortions, 'bx-')\n",
    "plt.xlabel('k')\n",
    "plt.ylabel('Distortion')\n",
    "plt.title('The Elbow Method showing the optimal k')\n",
    "plt.savefig(\"E://Graphs//elbow_curve.png\")\n",
    "plt.show()"
   ]
  },
  {
   "cell_type": "markdown",
   "metadata": {},
   "source": [
    "#### K-Means "
   ]
  },
  {
   "cell_type": "code",
   "execution_count": 9,
   "metadata": {},
   "outputs": [
    {
     "data": {
      "text/html": [
       "<div>\n",
       "<style scoped>\n",
       "    .dataframe tbody tr th:only-of-type {\n",
       "        vertical-align: middle;\n",
       "    }\n",
       "\n",
       "    .dataframe tbody tr th {\n",
       "        vertical-align: top;\n",
       "    }\n",
       "\n",
       "    .dataframe thead th {\n",
       "        text-align: right;\n",
       "    }\n",
       "</style>\n",
       "<table border=\"1\" class=\"dataframe\">\n",
       "  <thead>\n",
       "    <tr style=\"text-align: right;\">\n",
       "      <th></th>\n",
       "      <th>id</th>\n",
       "      <th>custno</th>\n",
       "      <th>acctno</th>\n",
       "      <th>overallqual</th>\n",
       "      <th>grlivarea</th>\n",
       "      <th>garagecars</th>\n",
       "      <th>ageofhouse</th>\n",
       "      <th>saleprice</th>\n",
       "      <th>cluster_no</th>\n",
       "    </tr>\n",
       "  </thead>\n",
       "  <tbody>\n",
       "    <tr>\n",
       "      <th>0</th>\n",
       "      <td>1000</td>\n",
       "      <td>12341198</td>\n",
       "      <td>45671880</td>\n",
       "      <td>7</td>\n",
       "      <td>1710</td>\n",
       "      <td>2</td>\n",
       "      <td>17</td>\n",
       "      <td>208500</td>\n",
       "      <td>1</td>\n",
       "    </tr>\n",
       "    <tr>\n",
       "      <th>1</th>\n",
       "      <td>1001</td>\n",
       "      <td>12341086</td>\n",
       "      <td>45671557</td>\n",
       "      <td>6</td>\n",
       "      <td>1262</td>\n",
       "      <td>2</td>\n",
       "      <td>44</td>\n",
       "      <td>181500</td>\n",
       "      <td>1</td>\n",
       "    </tr>\n",
       "    <tr>\n",
       "      <th>2</th>\n",
       "      <td>1002</td>\n",
       "      <td>12341187</td>\n",
       "      <td>45671158</td>\n",
       "      <td>7</td>\n",
       "      <td>1786</td>\n",
       "      <td>2</td>\n",
       "      <td>19</td>\n",
       "      <td>223500</td>\n",
       "      <td>1</td>\n",
       "    </tr>\n",
       "    <tr>\n",
       "      <th>3</th>\n",
       "      <td>1003</td>\n",
       "      <td>12341242</td>\n",
       "      <td>45671999</td>\n",
       "      <td>7</td>\n",
       "      <td>1717</td>\n",
       "      <td>3</td>\n",
       "      <td>105</td>\n",
       "      <td>140000</td>\n",
       "      <td>2</td>\n",
       "    </tr>\n",
       "    <tr>\n",
       "      <th>4</th>\n",
       "      <td>1004</td>\n",
       "      <td>12341047</td>\n",
       "      <td>45671584</td>\n",
       "      <td>8</td>\n",
       "      <td>2198</td>\n",
       "      <td>3</td>\n",
       "      <td>20</td>\n",
       "      <td>250000</td>\n",
       "      <td>1</td>\n",
       "    </tr>\n",
       "  </tbody>\n",
       "</table>\n",
       "</div>"
      ],
      "text/plain": [
       "     id    custno    acctno  overallqual  grlivarea  garagecars  ageofhouse  \\\n",
       "0  1000  12341198  45671880            7       1710           2          17   \n",
       "1  1001  12341086  45671557            6       1262           2          44   \n",
       "2  1002  12341187  45671158            7       1786           2          19   \n",
       "3  1003  12341242  45671999            7       1717           3         105   \n",
       "4  1004  12341047  45671584            8       2198           3          20   \n",
       "\n",
       "   saleprice  cluster_no  \n",
       "0     208500           1  \n",
       "1     181500           1  \n",
       "2     223500           1  \n",
       "3     140000           2  \n",
       "4     250000           1  "
      ]
     },
     "execution_count": 9,
     "metadata": {},
     "output_type": "execute_result"
    }
   ],
   "source": [
    "km= KMeans(n_clusters=3)\n",
    "y_predicted= km.fit_predict(df[[\"custno\", \"overallqual\", \"grlivarea\", \"garagecars\", \"ageofhouse\", \"saleprice\"]])\n",
    "y_predicted\n",
    "df[\"cluster_no\"]= y_predicted\n",
    "df.head()"
   ]
  },
  {
   "cell_type": "code",
   "execution_count": 10,
   "metadata": {},
   "outputs": [],
   "source": [
    "# Import predicted price dataframe\n",
    "pred_price = pd.read_csv(\"C:\\\\Users\\\\amirs\\\\OneDrive\\\\Documents\\\\predicted_price.csv\")"
   ]
  },
  {
   "cell_type": "code",
   "execution_count": 11,
   "metadata": {},
   "outputs": [],
   "source": [
    "# Convert Float to Int\n",
    "pred_price[\"Predicted_SalePrice\"]= pred_price[\"Predicted_SalePrice\"].astype(\"int\")"
   ]
  },
  {
   "cell_type": "code",
   "execution_count": 12,
   "metadata": {},
   "outputs": [
    {
     "data": {
      "text/html": [
       "<div>\n",
       "<style scoped>\n",
       "    .dataframe tbody tr th:only-of-type {\n",
       "        vertical-align: middle;\n",
       "    }\n",
       "\n",
       "    .dataframe tbody tr th {\n",
       "        vertical-align: top;\n",
       "    }\n",
       "\n",
       "    .dataframe thead th {\n",
       "        text-align: right;\n",
       "    }\n",
       "</style>\n",
       "<table border=\"1\" class=\"dataframe\">\n",
       "  <thead>\n",
       "    <tr style=\"text-align: right;\">\n",
       "      <th></th>\n",
       "      <th>id</th>\n",
       "      <th>custno</th>\n",
       "      <th>Predicted_SalePrice</th>\n",
       "    </tr>\n",
       "  </thead>\n",
       "  <tbody>\n",
       "    <tr>\n",
       "      <th>0</th>\n",
       "      <td>1000</td>\n",
       "      <td>12341198</td>\n",
       "      <td>55955</td>\n",
       "    </tr>\n",
       "    <tr>\n",
       "      <th>1</th>\n",
       "      <td>1001</td>\n",
       "      <td>12341086</td>\n",
       "      <td>142433</td>\n",
       "    </tr>\n",
       "    <tr>\n",
       "      <th>2</th>\n",
       "      <td>1002</td>\n",
       "      <td>12341187</td>\n",
       "      <td>174208</td>\n",
       "    </tr>\n",
       "    <tr>\n",
       "      <th>3</th>\n",
       "      <td>1003</td>\n",
       "      <td>12341242</td>\n",
       "      <td>158303</td>\n",
       "    </tr>\n",
       "    <tr>\n",
       "      <th>4</th>\n",
       "      <td>1004</td>\n",
       "      <td>12341047</td>\n",
       "      <td>113756</td>\n",
       "    </tr>\n",
       "  </tbody>\n",
       "</table>\n",
       "</div>"
      ],
      "text/plain": [
       "     id    custno  Predicted_SalePrice\n",
       "0  1000  12341198                55955\n",
       "1  1001  12341086               142433\n",
       "2  1002  12341187               174208\n",
       "3  1003  12341242               158303\n",
       "4  1004  12341047               113756"
      ]
     },
     "execution_count": 12,
     "metadata": {},
     "output_type": "execute_result"
    }
   ],
   "source": [
    "pred_price.head()"
   ]
  },
  {
   "cell_type": "code",
   "execution_count": 13,
   "metadata": {},
   "outputs": [
    {
     "data": {
      "text/html": [
       "<div>\n",
       "<style scoped>\n",
       "    .dataframe tbody tr th:only-of-type {\n",
       "        vertical-align: middle;\n",
       "    }\n",
       "\n",
       "    .dataframe tbody tr th {\n",
       "        vertical-align: top;\n",
       "    }\n",
       "\n",
       "    .dataframe thead th {\n",
       "        text-align: right;\n",
       "    }\n",
       "</style>\n",
       "<table border=\"1\" class=\"dataframe\">\n",
       "  <thead>\n",
       "    <tr style=\"text-align: right;\">\n",
       "      <th></th>\n",
       "      <th>id</th>\n",
       "      <th>custno</th>\n",
       "      <th>acctno</th>\n",
       "      <th>overallqual</th>\n",
       "      <th>grlivarea</th>\n",
       "      <th>garagecars</th>\n",
       "      <th>ageofhouse</th>\n",
       "      <th>saleprice</th>\n",
       "      <th>cluster_no</th>\n",
       "    </tr>\n",
       "  </thead>\n",
       "  <tbody>\n",
       "    <tr>\n",
       "      <th>0</th>\n",
       "      <td>1000</td>\n",
       "      <td>12341198</td>\n",
       "      <td>45671880</td>\n",
       "      <td>7</td>\n",
       "      <td>1710</td>\n",
       "      <td>2</td>\n",
       "      <td>17</td>\n",
       "      <td>208500</td>\n",
       "      <td>1</td>\n",
       "    </tr>\n",
       "    <tr>\n",
       "      <th>1</th>\n",
       "      <td>1001</td>\n",
       "      <td>12341086</td>\n",
       "      <td>45671557</td>\n",
       "      <td>6</td>\n",
       "      <td>1262</td>\n",
       "      <td>2</td>\n",
       "      <td>44</td>\n",
       "      <td>181500</td>\n",
       "      <td>1</td>\n",
       "    </tr>\n",
       "    <tr>\n",
       "      <th>2</th>\n",
       "      <td>1002</td>\n",
       "      <td>12341187</td>\n",
       "      <td>45671158</td>\n",
       "      <td>7</td>\n",
       "      <td>1786</td>\n",
       "      <td>2</td>\n",
       "      <td>19</td>\n",
       "      <td>223500</td>\n",
       "      <td>1</td>\n",
       "    </tr>\n",
       "    <tr>\n",
       "      <th>3</th>\n",
       "      <td>1003</td>\n",
       "      <td>12341242</td>\n",
       "      <td>45671999</td>\n",
       "      <td>7</td>\n",
       "      <td>1717</td>\n",
       "      <td>3</td>\n",
       "      <td>105</td>\n",
       "      <td>140000</td>\n",
       "      <td>2</td>\n",
       "    </tr>\n",
       "    <tr>\n",
       "      <th>4</th>\n",
       "      <td>1004</td>\n",
       "      <td>12341047</td>\n",
       "      <td>45671584</td>\n",
       "      <td>8</td>\n",
       "      <td>2198</td>\n",
       "      <td>3</td>\n",
       "      <td>20</td>\n",
       "      <td>250000</td>\n",
       "      <td>1</td>\n",
       "    </tr>\n",
       "  </tbody>\n",
       "</table>\n",
       "</div>"
      ],
      "text/plain": [
       "     id    custno    acctno  overallqual  grlivarea  garagecars  ageofhouse  \\\n",
       "0  1000  12341198  45671880            7       1710           2          17   \n",
       "1  1001  12341086  45671557            6       1262           2          44   \n",
       "2  1002  12341187  45671158            7       1786           2          19   \n",
       "3  1003  12341242  45671999            7       1717           3         105   \n",
       "4  1004  12341047  45671584            8       2198           3          20   \n",
       "\n",
       "   saleprice  cluster_no  \n",
       "0     208500           1  \n",
       "1     181500           1  \n",
       "2     223500           1  \n",
       "3     140000           2  \n",
       "4     250000           1  "
      ]
     },
     "execution_count": 13,
     "metadata": {},
     "output_type": "execute_result"
    }
   ],
   "source": [
    "df.head(5)"
   ]
  },
  {
   "cell_type": "code",
   "execution_count": 14,
   "metadata": {},
   "outputs": [
    {
     "data": {
      "text/html": [
       "<div>\n",
       "<style scoped>\n",
       "    .dataframe tbody tr th:only-of-type {\n",
       "        vertical-align: middle;\n",
       "    }\n",
       "\n",
       "    .dataframe tbody tr th {\n",
       "        vertical-align: top;\n",
       "    }\n",
       "\n",
       "    .dataframe thead th {\n",
       "        text-align: right;\n",
       "    }\n",
       "</style>\n",
       "<table border=\"1\" class=\"dataframe\">\n",
       "  <thead>\n",
       "    <tr style=\"text-align: right;\">\n",
       "      <th></th>\n",
       "      <th>id</th>\n",
       "      <th>custno_x</th>\n",
       "      <th>acctno</th>\n",
       "      <th>overallqual</th>\n",
       "      <th>grlivarea</th>\n",
       "      <th>garagecars</th>\n",
       "      <th>ageofhouse</th>\n",
       "      <th>saleprice</th>\n",
       "      <th>cluster_no</th>\n",
       "      <th>custno_y</th>\n",
       "      <th>Predicted_SalePrice</th>\n",
       "    </tr>\n",
       "  </thead>\n",
       "  <tbody>\n",
       "    <tr>\n",
       "      <th>0</th>\n",
       "      <td>1000</td>\n",
       "      <td>12341198</td>\n",
       "      <td>45671880</td>\n",
       "      <td>7</td>\n",
       "      <td>1710</td>\n",
       "      <td>2</td>\n",
       "      <td>17</td>\n",
       "      <td>208500</td>\n",
       "      <td>1</td>\n",
       "      <td>12341198</td>\n",
       "      <td>55955</td>\n",
       "    </tr>\n",
       "    <tr>\n",
       "      <th>1</th>\n",
       "      <td>1001</td>\n",
       "      <td>12341086</td>\n",
       "      <td>45671557</td>\n",
       "      <td>6</td>\n",
       "      <td>1262</td>\n",
       "      <td>2</td>\n",
       "      <td>44</td>\n",
       "      <td>181500</td>\n",
       "      <td>1</td>\n",
       "      <td>12341086</td>\n",
       "      <td>142433</td>\n",
       "    </tr>\n",
       "    <tr>\n",
       "      <th>2</th>\n",
       "      <td>1002</td>\n",
       "      <td>12341187</td>\n",
       "      <td>45671158</td>\n",
       "      <td>7</td>\n",
       "      <td>1786</td>\n",
       "      <td>2</td>\n",
       "      <td>19</td>\n",
       "      <td>223500</td>\n",
       "      <td>1</td>\n",
       "      <td>12341187</td>\n",
       "      <td>174208</td>\n",
       "    </tr>\n",
       "    <tr>\n",
       "      <th>3</th>\n",
       "      <td>1003</td>\n",
       "      <td>12341242</td>\n",
       "      <td>45671999</td>\n",
       "      <td>7</td>\n",
       "      <td>1717</td>\n",
       "      <td>3</td>\n",
       "      <td>105</td>\n",
       "      <td>140000</td>\n",
       "      <td>2</td>\n",
       "      <td>12341242</td>\n",
       "      <td>158303</td>\n",
       "    </tr>\n",
       "    <tr>\n",
       "      <th>4</th>\n",
       "      <td>1004</td>\n",
       "      <td>12341047</td>\n",
       "      <td>45671584</td>\n",
       "      <td>8</td>\n",
       "      <td>2198</td>\n",
       "      <td>3</td>\n",
       "      <td>20</td>\n",
       "      <td>250000</td>\n",
       "      <td>1</td>\n",
       "      <td>12341047</td>\n",
       "      <td>113756</td>\n",
       "    </tr>\n",
       "  </tbody>\n",
       "</table>\n",
       "</div>"
      ],
      "text/plain": [
       "     id  custno_x    acctno  overallqual  grlivarea  garagecars  ageofhouse  \\\n",
       "0  1000  12341198  45671880            7       1710           2          17   \n",
       "1  1001  12341086  45671557            6       1262           2          44   \n",
       "2  1002  12341187  45671158            7       1786           2          19   \n",
       "3  1003  12341242  45671999            7       1717           3         105   \n",
       "4  1004  12341047  45671584            8       2198           3          20   \n",
       "\n",
       "   saleprice  cluster_no  custno_y  Predicted_SalePrice  \n",
       "0     208500           1  12341198                55955  \n",
       "1     181500           1  12341086               142433  \n",
       "2     223500           1  12341187               174208  \n",
       "3     140000           2  12341242               158303  \n",
       "4     250000           1  12341047               113756  "
      ]
     },
     "execution_count": 14,
     "metadata": {},
     "output_type": "execute_result"
    }
   ],
   "source": [
    "# Merge Actual Price and Predicted Price to plot graphs\n",
    "df = pd.merge(df,pred_price, on=\"id\")\n",
    "df.head(5)"
   ]
  },
  {
   "cell_type": "code",
   "execution_count": 15,
   "metadata": {},
   "outputs": [
    {
     "data": {
      "text/plain": [
       "(1460, 3)"
      ]
     },
     "execution_count": 15,
     "metadata": {},
     "output_type": "execute_result"
    }
   ],
   "source": [
    "pred_price.shape"
   ]
  },
  {
   "cell_type": "code",
   "execution_count": 16,
   "metadata": {},
   "outputs": [
    {
     "data": {
      "text/plain": [
       "(1460, 11)"
      ]
     },
     "execution_count": 16,
     "metadata": {},
     "output_type": "execute_result"
    }
   ],
   "source": [
    "df.shape"
   ]
  },
  {
   "cell_type": "code",
   "execution_count": 17,
   "metadata": {},
   "outputs": [],
   "source": [
    "df1= df[df.cluster_no==0]\n",
    "df2= df[df.cluster_no==1]\n",
    "df3= df[df.cluster_no==2]\n",
    "# df4= df[df.cluster_no==3]"
   ]
  },
  {
   "cell_type": "code",
   "execution_count": 18,
   "metadata": {},
   "outputs": [
    {
     "data": {
      "text/html": [
       "<div>\n",
       "<style scoped>\n",
       "    .dataframe tbody tr th:only-of-type {\n",
       "        vertical-align: middle;\n",
       "    }\n",
       "\n",
       "    .dataframe tbody tr th {\n",
       "        vertical-align: top;\n",
       "    }\n",
       "\n",
       "    .dataframe thead th {\n",
       "        text-align: right;\n",
       "    }\n",
       "</style>\n",
       "<table border=\"1\" class=\"dataframe\">\n",
       "  <thead>\n",
       "    <tr style=\"text-align: right;\">\n",
       "      <th></th>\n",
       "      <th>id</th>\n",
       "      <th>custno_x</th>\n",
       "      <th>acctno</th>\n",
       "      <th>overallqual</th>\n",
       "      <th>grlivarea</th>\n",
       "      <th>garagecars</th>\n",
       "      <th>ageofhouse</th>\n",
       "      <th>saleprice</th>\n",
       "      <th>cluster_no</th>\n",
       "      <th>custno_y</th>\n",
       "      <th>Predicted_SalePrice</th>\n",
       "    </tr>\n",
       "  </thead>\n",
       "  <tbody>\n",
       "    <tr>\n",
       "      <th>6</th>\n",
       "      <td>1006</td>\n",
       "      <td>12341194</td>\n",
       "      <td>45671931</td>\n",
       "      <td>8</td>\n",
       "      <td>1694</td>\n",
       "      <td>2</td>\n",
       "      <td>16</td>\n",
       "      <td>307000</td>\n",
       "      <td>0</td>\n",
       "      <td>12341194</td>\n",
       "      <td>375953</td>\n",
       "    </tr>\n",
       "    <tr>\n",
       "      <th>11</th>\n",
       "      <td>1011</td>\n",
       "      <td>12341150</td>\n",
       "      <td>45671072</td>\n",
       "      <td>9</td>\n",
       "      <td>2324</td>\n",
       "      <td>3</td>\n",
       "      <td>15</td>\n",
       "      <td>345000</td>\n",
       "      <td>0</td>\n",
       "      <td>12341150</td>\n",
       "      <td>82029</td>\n",
       "    </tr>\n",
       "    <tr>\n",
       "      <th>20</th>\n",
       "      <td>1020</td>\n",
       "      <td>12341213</td>\n",
       "      <td>45671433</td>\n",
       "      <td>8</td>\n",
       "      <td>2376</td>\n",
       "      <td>3</td>\n",
       "      <td>15</td>\n",
       "      <td>325300</td>\n",
       "      <td>0</td>\n",
       "      <td>12341213</td>\n",
       "      <td>189291</td>\n",
       "    </tr>\n",
       "    <tr>\n",
       "      <th>27</th>\n",
       "      <td>1027</td>\n",
       "      <td>12341035</td>\n",
       "      <td>45671823</td>\n",
       "      <td>8</td>\n",
       "      <td>1704</td>\n",
       "      <td>3</td>\n",
       "      <td>13</td>\n",
       "      <td>306000</td>\n",
       "      <td>0</td>\n",
       "      <td>12341035</td>\n",
       "      <td>121743</td>\n",
       "    </tr>\n",
       "    <tr>\n",
       "      <th>35</th>\n",
       "      <td>1035</td>\n",
       "      <td>12341088</td>\n",
       "      <td>45671542</td>\n",
       "      <td>8</td>\n",
       "      <td>2452</td>\n",
       "      <td>3</td>\n",
       "      <td>16</td>\n",
       "      <td>309000</td>\n",
       "      <td>0</td>\n",
       "      <td>12341088</td>\n",
       "      <td>139497</td>\n",
       "    </tr>\n",
       "  </tbody>\n",
       "</table>\n",
       "</div>"
      ],
      "text/plain": [
       "      id  custno_x    acctno  overallqual  grlivarea  garagecars  ageofhouse  \\\n",
       "6   1006  12341194  45671931            8       1694           2          16   \n",
       "11  1011  12341150  45671072            9       2324           3          15   \n",
       "20  1020  12341213  45671433            8       2376           3          15   \n",
       "27  1027  12341035  45671823            8       1704           3          13   \n",
       "35  1035  12341088  45671542            8       2452           3          16   \n",
       "\n",
       "    saleprice  cluster_no  custno_y  Predicted_SalePrice  \n",
       "6      307000           0  12341194               375953  \n",
       "11     345000           0  12341150                82029  \n",
       "20     325300           0  12341213               189291  \n",
       "27     306000           0  12341035               121743  \n",
       "35     309000           0  12341088               139497  "
      ]
     },
     "execution_count": 18,
     "metadata": {},
     "output_type": "execute_result"
    }
   ],
   "source": [
    "df1.head()"
   ]
  },
  {
   "cell_type": "code",
   "execution_count": 19,
   "metadata": {},
   "outputs": [],
   "source": [
    "# Linear Regression"
   ]
  },
  {
   "cell_type": "code",
   "execution_count": 20,
   "metadata": {},
   "outputs": [],
   "source": [
    "# # Model Building\n",
    "# from sklearn.linear_model import LinearRegression\n",
    "# from sklearn import metrics\n",
    "# from sklearn.model_selection import train_test_split"
   ]
  },
  {
   "cell_type": "code",
   "execution_count": 21,
   "metadata": {},
   "outputs": [],
   "source": [
    "# # Prepare data for modeling\n",
    "# X= df1.drop([\"id\", \"custno\", \"acctno\",\"saleprice\", \"cluster_no\"], axis=1)\n",
    "# y= df1.saleprice\n",
    "\n",
    "# # Split the data and check the shape of the data\n",
    "# X_train, X_test, y_train, y_test = train_test_split(X, y, test_size=0.30, random_state=5)\n",
    "# X_train.shape, X_test.shape, y_train.shape, y_test.shape"
   ]
  },
  {
   "cell_type": "code",
   "execution_count": 22,
   "metadata": {},
   "outputs": [],
   "source": [
    "# # Instantiate the model\n",
    "# linreg= LinearRegression()\n",
    "\n",
    "# # Fit the model\n",
    "# linreg.fit(X_train, y_train)\n",
    "\n",
    "# # Make predictions\n",
    "# pred_test = linreg.predict(X_test)"
   ]
  },
  {
   "cell_type": "code",
   "execution_count": 23,
   "metadata": {},
   "outputs": [],
   "source": [
    "# # Get the coefficient and intercept of the model\n",
    "# print(linreg.intercept_)\n",
    "# print(linreg.coef_)\n",
    "\n",
    "# # Pair the feature name with the coefficient\n",
    "# print(list(zip(df1, linreg.coef_)))\n",
    "\n",
    "# # Print R square\n",
    "# print(\"R Square \", linreg.score(X_test, y_test))\n",
    "# # So, in our model, 81.51% of the variability in Y can be explained using X.\n",
    "\n",
    "# # Mean Absolute Deviation\n",
    "# print(\"MAE:\", metrics.mean_absolute_error(pred_test, y_test))\n",
    "\n",
    "# # Mean Square Error\n",
    "# print(\"MSE:\", metrics.mean_squared_error(pred_test, y_test))\n",
    "\n",
    "# # Root Mean square Error\n",
    "# print(\"RMSE:\", np.sqrt(metrics.mean_squared_error(pred_test, y_test)))"
   ]
  },
  {
   "cell_type": "code",
   "execution_count": 24,
   "metadata": {},
   "outputs": [],
   "source": [
    "# pred_test.shape"
   ]
  },
  {
   "cell_type": "code",
   "execution_count": 25,
   "metadata": {},
   "outputs": [],
   "source": [
    "# df1[[\"saleprice\", \"Predicted_SalePrice\", \"cluster_no\"]].head(2)"
   ]
  },
  {
   "cell_type": "code",
   "execution_count": 26,
   "metadata": {},
   "outputs": [],
   "source": [
    "# df2[[\"saleprice\", \"Predicted_SalePrice\", \"cluster_no\"]].head(2)"
   ]
  },
  {
   "cell_type": "code",
   "execution_count": 27,
   "metadata": {},
   "outputs": [
    {
     "data": {
      "image/png": "[encoded data removed]",
      "text/plain": [
       "<Figure size 720x432 with 1 Axes>"
      ]
     },
     "metadata": {
      "needs_background": "light"
     },
     "output_type": "display_data"
    }
   ],
   "source": [
    "# plt.figure(figsize=(20,30))\n",
    "fig, ax = plt.subplots(figsize=(10,6))\n",
    "plt.title(\"Cluster No 1 - Elbow Method\", fontsize=22)\n",
    "ax.tick_params(axis='both', which='major', labelsize=15) \n",
    "ax.scatter(df1[\"saleprice\"], df1[\"Predicted_SalePrice\"], label = \"Predicted Price\")\n",
    "ax.plot([df1[\"saleprice\"].min(), df1[\"saleprice\"].max()],[df1[\"saleprice\"].min(), df1[\"saleprice\"].max()], 'k--', lw=5,\n",
    "       label = \"Actual Sale Price\")\n",
    "ax.set_xlabel('Actual Sale Price', fontsize=22)\n",
    "ax.set_ylabel('Predicted Sale Price', fontsize=22)\n",
    "plt.legend()\n",
    "plt.savefig(\"E://Graphs//cluster1.png\")\n",
    "plt.show()"
   ]
  },
  {
   "cell_type": "code",
   "execution_count": 28,
   "metadata": {},
   "outputs": [
    {
     "data": {
      "image/png": "[encoded data removed]",
      "text/plain": [
       "<Figure size 720x432 with 1 Axes>"
      ]
     },
     "metadata": {
      "needs_background": "light"
     },
     "output_type": "display_data"
    }
   ],
   "source": [
    "# plt.figure(figsize=(20,30))\n",
    "fig, ax = plt.subplots(figsize=(10,6))\n",
    "plt.title(\"Cluster No 2 - Elbow Method\", fontsize=22)\n",
    "ax.tick_params(axis='both', which='major', labelsize=15) \n",
    "ax.scatter(df2[\"saleprice\"], df2[\"Predicted_SalePrice\"], label = \"Predicted Price\")\n",
    "ax.plot([df2[\"saleprice\"].min(), df2[\"saleprice\"].max()],[df2[\"saleprice\"].min(), df2[\"saleprice\"].max()], 'k--', lw=5,\n",
    "       label = \"Actual Sale Price\")\n",
    "ax.set_xlabel('Actual Sale Price', fontsize=22)\n",
    "ax.set_ylabel('Predicted Sale Price', fontsize=22)\n",
    "plt.legend()\n",
    "plt.savefig(\"E://Graphs//cluster2.png\")\n",
    "plt.show()"
   ]
  },
  {
   "cell_type": "code",
   "execution_count": 29,
   "metadata": {},
   "outputs": [
    {
     "data": {
      "image/png": "[encoded data removed]",
      "text/plain": [
       "<Figure size 720x432 with 1 Axes>"
      ]
     },
     "metadata": {
      "needs_background": "light"
     },
     "output_type": "display_data"
    }
   ],
   "source": [
    "# plt.figure(figsize=(20,30))\n",
    "fig, ax = plt.subplots(figsize=(10,6))\n",
    "plt.title(\"Cluster No 3 - Elbow Method\", fontsize=22)\n",
    "ax.tick_params(axis='both', which='major', labelsize=15) \n",
    "ax.scatter(df3[\"saleprice\"], df3[\"Predicted_SalePrice\"], label = \"Predicted Price\")\n",
    "ax.plot([df3[\"saleprice\"].min(), df3[\"saleprice\"].max()],[df3[\"saleprice\"].min(), df3[\"saleprice\"].max()], 'k--', lw=5,\n",
    "       label = \"Actual Sale Price\")\n",
    "ax.set_xlabel('Actual Sale Price', fontsize=22)\n",
    "ax.set_ylabel('Predicted Sale Price', fontsize=22)\n",
    "plt.legend()\n",
    "plt.savefig(\"E://Graphs//cluster3.png\")\n",
    "plt.show()"
   ]
  },
  {
   "cell_type": "code",
   "execution_count": 30,
   "metadata": {},
   "outputs": [
    {
     "data": {
      "text/html": [
       "<div>\n",
       "<style scoped>\n",
       "    .dataframe tbody tr th:only-of-type {\n",
       "        vertical-align: middle;\n",
       "    }\n",
       "\n",
       "    .dataframe tbody tr th {\n",
       "        vertical-align: top;\n",
       "    }\n",
       "\n",
       "    .dataframe thead th {\n",
       "        text-align: right;\n",
       "    }\n",
       "</style>\n",
       "<table border=\"1\" class=\"dataframe\">\n",
       "  <thead>\n",
       "    <tr style=\"text-align: right;\">\n",
       "      <th></th>\n",
       "      <th>id</th>\n",
       "      <th>custno_x</th>\n",
       "      <th>acctno</th>\n",
       "      <th>overallqual</th>\n",
       "      <th>grlivarea</th>\n",
       "      <th>garagecars</th>\n",
       "      <th>ageofhouse</th>\n",
       "      <th>saleprice</th>\n",
       "      <th>cluster_no</th>\n",
       "      <th>custno_y</th>\n",
       "      <th>Predicted_SalePrice</th>\n",
       "    </tr>\n",
       "  </thead>\n",
       "  <tbody>\n",
       "    <tr>\n",
       "      <th>count</th>\n",
       "      <td>120.000000</td>\n",
       "      <td>1.200000e+02</td>\n",
       "      <td>1.200000e+02</td>\n",
       "      <td>120.000000</td>\n",
       "      <td>120.000000</td>\n",
       "      <td>120.000000</td>\n",
       "      <td>120.000000</td>\n",
       "      <td>120.000000</td>\n",
       "      <td>120.0</td>\n",
       "      <td>1.200000e+02</td>\n",
       "      <td>120.000000</td>\n",
       "    </tr>\n",
       "    <tr>\n",
       "      <th>mean</th>\n",
       "      <td>1662.183333</td>\n",
       "      <td>1.234113e+07</td>\n",
       "      <td>4.567150e+07</td>\n",
       "      <td>8.458333</td>\n",
       "      <td>2317.808333</td>\n",
       "      <td>2.758333</td>\n",
       "      <td>24.025000</td>\n",
       "      <td>372625.941667</td>\n",
       "      <td>0.0</td>\n",
       "      <td>1.234113e+07</td>\n",
       "      <td>184664.308333</td>\n",
       "    </tr>\n",
       "    <tr>\n",
       "      <th>std</th>\n",
       "      <td>408.978744</td>\n",
       "      <td>7.006976e+01</td>\n",
       "      <td>3.103031e+02</td>\n",
       "      <td>0.878270</td>\n",
       "      <td>555.639057</td>\n",
       "      <td>0.429888</td>\n",
       "      <td>23.028467</td>\n",
       "      <td>84164.424605</td>\n",
       "      <td>0.0</td>\n",
       "      <td>7.006976e+01</td>\n",
       "      <td>106135.930112</td>\n",
       "    </tr>\n",
       "    <tr>\n",
       "      <th>min</th>\n",
       "      <td>1006.000000</td>\n",
       "      <td>1.234100e+07</td>\n",
       "      <td>4.567101e+07</td>\n",
       "      <td>7.000000</td>\n",
       "      <td>1419.000000</td>\n",
       "      <td>2.000000</td>\n",
       "      <td>10.000000</td>\n",
       "      <td>294000.000000</td>\n",
       "      <td>0.0</td>\n",
       "      <td>1.234100e+07</td>\n",
       "      <td>23968.000000</td>\n",
       "    </tr>\n",
       "    <tr>\n",
       "      <th>25%</th>\n",
       "      <td>1321.750000</td>\n",
       "      <td>1.234107e+07</td>\n",
       "      <td>4.567121e+07</td>\n",
       "      <td>8.000000</td>\n",
       "      <td>1893.750000</td>\n",
       "      <td>3.000000</td>\n",
       "      <td>13.000000</td>\n",
       "      <td>317750.000000</td>\n",
       "      <td>0.0</td>\n",
       "      <td>1.234107e+07</td>\n",
       "      <td>122820.750000</td>\n",
       "    </tr>\n",
       "    <tr>\n",
       "      <th>50%</th>\n",
       "      <td>1618.500000</td>\n",
       "      <td>1.234114e+07</td>\n",
       "      <td>4.567152e+07</td>\n",
       "      <td>8.000000</td>\n",
       "      <td>2229.000000</td>\n",
       "      <td>3.000000</td>\n",
       "      <td>15.000000</td>\n",
       "      <td>341821.500000</td>\n",
       "      <td>0.0</td>\n",
       "      <td>1.234114e+07</td>\n",
       "      <td>160953.000000</td>\n",
       "    </tr>\n",
       "    <tr>\n",
       "      <th>75%</th>\n",
       "      <td>1991.000000</td>\n",
       "      <td>1.234119e+07</td>\n",
       "      <td>4.567180e+07</td>\n",
       "      <td>9.000000</td>\n",
       "      <td>2624.000000</td>\n",
       "      <td>3.000000</td>\n",
       "      <td>25.000000</td>\n",
       "      <td>394712.750000</td>\n",
       "      <td>0.0</td>\n",
       "      <td>1.234119e+07</td>\n",
       "      <td>207417.250000</td>\n",
       "    </tr>\n",
       "    <tr>\n",
       "      <th>max</th>\n",
       "      <td>2442.000000</td>\n",
       "      <td>1.234125e+07</td>\n",
       "      <td>4.567200e+07</td>\n",
       "      <td>10.000000</td>\n",
       "      <td>4476.000000</td>\n",
       "      <td>3.000000</td>\n",
       "      <td>140.000000</td>\n",
       "      <td>755000.000000</td>\n",
       "      <td>0.0</td>\n",
       "      <td>1.234125e+07</td>\n",
       "      <td>767898.000000</td>\n",
       "    </tr>\n",
       "  </tbody>\n",
       "</table>\n",
       "</div>"
      ],
      "text/plain": [
       "                id      custno_x        acctno  overallqual    grlivarea  \\\n",
       "count   120.000000  1.200000e+02  1.200000e+02   120.000000   120.000000   \n",
       "mean   1662.183333  1.234113e+07  4.567150e+07     8.458333  2317.808333   \n",
       "std     408.978744  7.006976e+01  3.103031e+02     0.878270   555.639057   \n",
       "min    1006.000000  1.234100e+07  4.567101e+07     7.000000  1419.000000   \n",
       "25%    1321.750000  1.234107e+07  4.567121e+07     8.000000  1893.750000   \n",
       "50%    1618.500000  1.234114e+07  4.567152e+07     8.000000  2229.000000   \n",
       "75%    1991.000000  1.234119e+07  4.567180e+07     9.000000  2624.000000   \n",
       "max    2442.000000  1.234125e+07  4.567200e+07    10.000000  4476.000000   \n",
       "\n",
       "       garagecars  ageofhouse      saleprice  cluster_no      custno_y  \\\n",
       "count  120.000000  120.000000     120.000000       120.0  1.200000e+02   \n",
       "mean     2.758333   24.025000  372625.941667         0.0  1.234113e+07   \n",
       "std      0.429888   23.028467   84164.424605         0.0  7.006976e+01   \n",
       "min      2.000000   10.000000  294000.000000         0.0  1.234100e+07   \n",
       "25%      3.000000   13.000000  317750.000000         0.0  1.234107e+07   \n",
       "50%      3.000000   15.000000  341821.500000         0.0  1.234114e+07   \n",
       "75%      3.000000   25.000000  394712.750000         0.0  1.234119e+07   \n",
       "max      3.000000  140.000000  755000.000000         0.0  1.234125e+07   \n",
       "\n",
       "       Predicted_SalePrice  \n",
       "count           120.000000  \n",
       "mean         184664.308333  \n",
       "std          106135.930112  \n",
       "min           23968.000000  \n",
       "25%          122820.750000  \n",
       "50%          160953.000000  \n",
       "75%          207417.250000  \n",
       "max          767898.000000  "
      ]
     },
     "execution_count": 30,
     "metadata": {},
     "output_type": "execute_result"
    }
   ],
   "source": [
    "df1.describe()"
   ]
  },
  {
   "cell_type": "code",
   "execution_count": 31,
   "metadata": {},
   "outputs": [],
   "source": [
    "# # Cluster 1 Analysis\n",
    "# - Mean : The mean of overquall is is 8.45, grlivarea is 2317, garagecars 2.75, ageofhouse 24 years, saleprice 372625\n",
    "# - Std dev : The std dev of overquall is 0.87, grlivarea is 555, garagecars 0.42, ageofhouse 23 years, saleprice 84164\n",
    "# - Mode : The mode of overquall is 8, grlivarea is 1893, garagecars 3, ageofhouse 15 years, saleprice 341821"
   ]
  },
  {
   "cell_type": "code",
   "execution_count": 32,
   "metadata": {},
   "outputs": [
    {
     "data": {
      "text/html": [
       "<div>\n",
       "<style scoped>\n",
       "    .dataframe tbody tr th:only-of-type {\n",
       "        vertical-align: middle;\n",
       "    }\n",
       "\n",
       "    .dataframe tbody tr th {\n",
       "        vertical-align: top;\n",
       "    }\n",
       "\n",
       "    .dataframe thead th {\n",
       "        text-align: right;\n",
       "    }\n",
       "</style>\n",
       "<table border=\"1\" class=\"dataframe\">\n",
       "  <thead>\n",
       "    <tr style=\"text-align: right;\">\n",
       "      <th></th>\n",
       "      <th>id</th>\n",
       "      <th>custno_x</th>\n",
       "      <th>acctno</th>\n",
       "      <th>overallqual</th>\n",
       "      <th>grlivarea</th>\n",
       "      <th>garagecars</th>\n",
       "      <th>ageofhouse</th>\n",
       "      <th>saleprice</th>\n",
       "      <th>cluster_no</th>\n",
       "      <th>custno_y</th>\n",
       "      <th>Predicted_SalePrice</th>\n",
       "    </tr>\n",
       "  </thead>\n",
       "  <tbody>\n",
       "    <tr>\n",
       "      <th>count</th>\n",
       "      <td>539.000000</td>\n",
       "      <td>5.390000e+02</td>\n",
       "      <td>5.390000e+02</td>\n",
       "      <td>539.000000</td>\n",
       "      <td>539.000000</td>\n",
       "      <td>539.000000</td>\n",
       "      <td>539.000000</td>\n",
       "      <td>539.000000</td>\n",
       "      <td>539.0</td>\n",
       "      <td>5.390000e+02</td>\n",
       "      <td>539.000000</td>\n",
       "    </tr>\n",
       "    <tr>\n",
       "      <th>mean</th>\n",
       "      <td>1730.547310</td>\n",
       "      <td>1.234113e+07</td>\n",
       "      <td>4.567148e+07</td>\n",
       "      <td>6.842301</td>\n",
       "      <td>1741.467532</td>\n",
       "      <td>2.107607</td>\n",
       "      <td>30.977737</td>\n",
       "      <td>215244.376623</td>\n",
       "      <td>1.0</td>\n",
       "      <td>1.234113e+07</td>\n",
       "      <td>175555.840445</td>\n",
       "    </tr>\n",
       "    <tr>\n",
       "      <th>std</th>\n",
       "      <td>426.495156</td>\n",
       "      <td>7.174981e+01</td>\n",
       "      <td>2.931359e+02</td>\n",
       "      <td>0.866128</td>\n",
       "      <td>389.174382</td>\n",
       "      <td>0.463859</td>\n",
       "      <td>22.592796</td>\n",
       "      <td>33403.218548</td>\n",
       "      <td>0.0</td>\n",
       "      <td>7.174981e+01</td>\n",
       "      <td>84807.000584</td>\n",
       "    </tr>\n",
       "    <tr>\n",
       "      <th>min</th>\n",
       "      <td>1000.000000</td>\n",
       "      <td>1.234100e+07</td>\n",
       "      <td>4.567100e+07</td>\n",
       "      <td>4.000000</td>\n",
       "      <td>988.000000</td>\n",
       "      <td>0.000000</td>\n",
       "      <td>11.000000</td>\n",
       "      <td>172400.000000</td>\n",
       "      <td>1.0</td>\n",
       "      <td>1.234100e+07</td>\n",
       "      <td>9607.000000</td>\n",
       "    </tr>\n",
       "    <tr>\n",
       "      <th>25%</th>\n",
       "      <td>1337.500000</td>\n",
       "      <td>1.234106e+07</td>\n",
       "      <td>4.567122e+07</td>\n",
       "      <td>6.000000</td>\n",
       "      <td>1486.500000</td>\n",
       "      <td>2.000000</td>\n",
       "      <td>15.500000</td>\n",
       "      <td>185875.000000</td>\n",
       "      <td>1.0</td>\n",
       "      <td>1.234106e+07</td>\n",
       "      <td>121505.000000</td>\n",
       "    </tr>\n",
       "    <tr>\n",
       "      <th>50%</th>\n",
       "      <td>1746.000000</td>\n",
       "      <td>1.234113e+07</td>\n",
       "      <td>4.567147e+07</td>\n",
       "      <td>7.000000</td>\n",
       "      <td>1665.000000</td>\n",
       "      <td>2.000000</td>\n",
       "      <td>21.000000</td>\n",
       "      <td>208300.000000</td>\n",
       "      <td>1.0</td>\n",
       "      <td>1.234113e+07</td>\n",
       "      <td>154935.000000</td>\n",
       "    </tr>\n",
       "    <tr>\n",
       "      <th>75%</th>\n",
       "      <td>2108.500000</td>\n",
       "      <td>1.234118e+07</td>\n",
       "      <td>4.567173e+07</td>\n",
       "      <td>7.000000</td>\n",
       "      <td>1937.500000</td>\n",
       "      <td>2.000000</td>\n",
       "      <td>42.000000</td>\n",
       "      <td>239250.000000</td>\n",
       "      <td>1.0</td>\n",
       "      <td>1.234118e+07</td>\n",
       "      <td>209005.000000</td>\n",
       "    </tr>\n",
       "    <tr>\n",
       "      <th>max</th>\n",
       "      <td>2457.000000</td>\n",
       "      <td>1.234125e+07</td>\n",
       "      <td>4.567200e+07</td>\n",
       "      <td>10.000000</td>\n",
       "      <td>4676.000000</td>\n",
       "      <td>4.000000</td>\n",
       "      <td>140.000000</td>\n",
       "      <td>293077.000000</td>\n",
       "      <td>1.0</td>\n",
       "      <td>1.234125e+07</td>\n",
       "      <td>775919.000000</td>\n",
       "    </tr>\n",
       "  </tbody>\n",
       "</table>\n",
       "</div>"
      ],
      "text/plain": [
       "                id      custno_x        acctno  overallqual    grlivarea  \\\n",
       "count   539.000000  5.390000e+02  5.390000e+02   539.000000   539.000000   \n",
       "mean   1730.547310  1.234113e+07  4.567148e+07     6.842301  1741.467532   \n",
       "std     426.495156  7.174981e+01  2.931359e+02     0.866128   389.174382   \n",
       "min    1000.000000  1.234100e+07  4.567100e+07     4.000000   988.000000   \n",
       "25%    1337.500000  1.234106e+07  4.567122e+07     6.000000  1486.500000   \n",
       "50%    1746.000000  1.234113e+07  4.567147e+07     7.000000  1665.000000   \n",
       "75%    2108.500000  1.234118e+07  4.567173e+07     7.000000  1937.500000   \n",
       "max    2457.000000  1.234125e+07  4.567200e+07    10.000000  4676.000000   \n",
       "\n",
       "       garagecars  ageofhouse      saleprice  cluster_no      custno_y  \\\n",
       "count  539.000000  539.000000     539.000000       539.0  5.390000e+02   \n",
       "mean     2.107607   30.977737  215244.376623         1.0  1.234113e+07   \n",
       "std      0.463859   22.592796   33403.218548         0.0  7.174981e+01   \n",
       "min      0.000000   11.000000  172400.000000         1.0  1.234100e+07   \n",
       "25%      2.000000   15.500000  185875.000000         1.0  1.234106e+07   \n",
       "50%      2.000000   21.000000  208300.000000         1.0  1.234113e+07   \n",
       "75%      2.000000   42.000000  239250.000000         1.0  1.234118e+07   \n",
       "max      4.000000  140.000000  293077.000000         1.0  1.234125e+07   \n",
       "\n",
       "       Predicted_SalePrice  \n",
       "count           539.000000  \n",
       "mean         175555.840445  \n",
       "std           84807.000584  \n",
       "min            9607.000000  \n",
       "25%          121505.000000  \n",
       "50%          154935.000000  \n",
       "75%          209005.000000  \n",
       "max          775919.000000  "
      ]
     },
     "execution_count": 32,
     "metadata": {},
     "output_type": "execute_result"
    }
   ],
   "source": [
    "df2.describe()"
   ]
  },
  {
   "cell_type": "code",
   "execution_count": 33,
   "metadata": {},
   "outputs": [],
   "source": [
    "# # Cluster 2 Analysis\n",
    "# - Mean : The mean of overquall is is 5.24, grlivarea is 1243, garagecars 1.38, ageofhouse 64 years, saleprice 129105\n",
    "# - Std dev : The std dev of overquall is 0.96, grlivarea is 388, garagecars 0.69, ageofhouse 26 years, saleprice 26668\n",
    "# - Mode : The mode of overquall is 5, grlivarea is 1180, garagecars 1, ageofhouse 61 years, saleprice 133000"
   ]
  },
  {
   "cell_type": "code",
   "execution_count": 34,
   "metadata": {},
   "outputs": [
    {
     "data": {
      "text/html": [
       "<div>\n",
       "<style scoped>\n",
       "    .dataframe tbody tr th:only-of-type {\n",
       "        vertical-align: middle;\n",
       "    }\n",
       "\n",
       "    .dataframe tbody tr th {\n",
       "        vertical-align: top;\n",
       "    }\n",
       "\n",
       "    .dataframe thead th {\n",
       "        text-align: right;\n",
       "    }\n",
       "</style>\n",
       "<table border=\"1\" class=\"dataframe\">\n",
       "  <thead>\n",
       "    <tr style=\"text-align: right;\">\n",
       "      <th></th>\n",
       "      <th>id</th>\n",
       "      <th>custno_x</th>\n",
       "      <th>acctno</th>\n",
       "      <th>overallqual</th>\n",
       "      <th>grlivarea</th>\n",
       "      <th>garagecars</th>\n",
       "      <th>ageofhouse</th>\n",
       "      <th>saleprice</th>\n",
       "      <th>cluster_no</th>\n",
       "      <th>custno_y</th>\n",
       "      <th>Predicted_SalePrice</th>\n",
       "    </tr>\n",
       "  </thead>\n",
       "  <tbody>\n",
       "    <tr>\n",
       "      <th>count</th>\n",
       "      <td>801.000000</td>\n",
       "      <td>8.010000e+02</td>\n",
       "      <td>8.010000e+02</td>\n",
       "      <td>801.000000</td>\n",
       "      <td>801.000000</td>\n",
       "      <td>801.000000</td>\n",
       "      <td>801.000000</td>\n",
       "      <td>801.000000</td>\n",
       "      <td>801.0</td>\n",
       "      <td>8.010000e+02</td>\n",
       "      <td>801.000000</td>\n",
       "    </tr>\n",
       "    <tr>\n",
       "      <th>mean</th>\n",
       "      <td>1738.880150</td>\n",
       "      <td>1.234113e+07</td>\n",
       "      <td>4.567149e+07</td>\n",
       "      <td>5.245943</td>\n",
       "      <td>1243.182272</td>\n",
       "      <td>1.389513</td>\n",
       "      <td>64.380774</td>\n",
       "      <td>129105.011236</td>\n",
       "      <td>2.0</td>\n",
       "      <td>1.234113e+07</td>\n",
       "      <td>183979.283396</td>\n",
       "    </tr>\n",
       "    <tr>\n",
       "      <th>std</th>\n",
       "      <td>419.767993</td>\n",
       "      <td>7.206664e+01</td>\n",
       "      <td>2.913906e+02</td>\n",
       "      <td>0.966016</td>\n",
       "      <td>388.079227</td>\n",
       "      <td>0.691440</td>\n",
       "      <td>26.312945</td>\n",
       "      <td>26668.821030</td>\n",
       "      <td>0.0</td>\n",
       "      <td>7.206664e+01</td>\n",
       "      <td>81495.168320</td>\n",
       "    </tr>\n",
       "    <tr>\n",
       "      <th>min</th>\n",
       "      <td>1003.000000</td>\n",
       "      <td>1.234100e+07</td>\n",
       "      <td>4.567100e+07</td>\n",
       "      <td>1.000000</td>\n",
       "      <td>334.000000</td>\n",
       "      <td>0.000000</td>\n",
       "      <td>11.000000</td>\n",
       "      <td>34900.000000</td>\n",
       "      <td>2.0</td>\n",
       "      <td>1.234100e+07</td>\n",
       "      <td>35147.000000</td>\n",
       "    </tr>\n",
       "    <tr>\n",
       "      <th>25%</th>\n",
       "      <td>1390.000000</td>\n",
       "      <td>1.234106e+07</td>\n",
       "      <td>4.567124e+07</td>\n",
       "      <td>5.000000</td>\n",
       "      <td>971.000000</td>\n",
       "      <td>1.000000</td>\n",
       "      <td>48.000000</td>\n",
       "      <td>112500.000000</td>\n",
       "      <td>2.0</td>\n",
       "      <td>1.234106e+07</td>\n",
       "      <td>125890.000000</td>\n",
       "    </tr>\n",
       "    <tr>\n",
       "      <th>50%</th>\n",
       "      <td>1741.000000</td>\n",
       "      <td>1.234113e+07</td>\n",
       "      <td>4.567149e+07</td>\n",
       "      <td>5.000000</td>\n",
       "      <td>1180.000000</td>\n",
       "      <td>1.000000</td>\n",
       "      <td>61.000000</td>\n",
       "      <td>133000.000000</td>\n",
       "      <td>2.0</td>\n",
       "      <td>1.234113e+07</td>\n",
       "      <td>168627.000000</td>\n",
       "    </tr>\n",
       "    <tr>\n",
       "      <th>75%</th>\n",
       "      <td>2097.000000</td>\n",
       "      <td>1.234119e+07</td>\n",
       "      <td>4.567175e+07</td>\n",
       "      <td>6.000000</td>\n",
       "      <td>1440.000000</td>\n",
       "      <td>2.000000</td>\n",
       "      <td>81.000000</td>\n",
       "      <td>148500.000000</td>\n",
       "      <td>2.0</td>\n",
       "      <td>1.234119e+07</td>\n",
       "      <td>222871.000000</td>\n",
       "    </tr>\n",
       "    <tr>\n",
       "      <th>max</th>\n",
       "      <td>2459.000000</td>\n",
       "      <td>1.234125e+07</td>\n",
       "      <td>4.567200e+07</td>\n",
       "      <td>10.000000</td>\n",
       "      <td>5642.000000</td>\n",
       "      <td>4.000000</td>\n",
       "      <td>148.000000</td>\n",
       "      <td>172000.000000</td>\n",
       "      <td>2.0</td>\n",
       "      <td>1.234125e+07</td>\n",
       "      <td>644879.000000</td>\n",
       "    </tr>\n",
       "  </tbody>\n",
       "</table>\n",
       "</div>"
      ],
      "text/plain": [
       "                id      custno_x        acctno  overallqual    grlivarea  \\\n",
       "count   801.000000  8.010000e+02  8.010000e+02   801.000000   801.000000   \n",
       "mean   1738.880150  1.234113e+07  4.567149e+07     5.245943  1243.182272   \n",
       "std     419.767993  7.206664e+01  2.913906e+02     0.966016   388.079227   \n",
       "min    1003.000000  1.234100e+07  4.567100e+07     1.000000   334.000000   \n",
       "25%    1390.000000  1.234106e+07  4.567124e+07     5.000000   971.000000   \n",
       "50%    1741.000000  1.234113e+07  4.567149e+07     5.000000  1180.000000   \n",
       "75%    2097.000000  1.234119e+07  4.567175e+07     6.000000  1440.000000   \n",
       "max    2459.000000  1.234125e+07  4.567200e+07    10.000000  5642.000000   \n",
       "\n",
       "       garagecars  ageofhouse      saleprice  cluster_no      custno_y  \\\n",
       "count  801.000000  801.000000     801.000000       801.0  8.010000e+02   \n",
       "mean     1.389513   64.380774  129105.011236         2.0  1.234113e+07   \n",
       "std      0.691440   26.312945   26668.821030         0.0  7.206664e+01   \n",
       "min      0.000000   11.000000   34900.000000         2.0  1.234100e+07   \n",
       "25%      1.000000   48.000000  112500.000000         2.0  1.234106e+07   \n",
       "50%      1.000000   61.000000  133000.000000         2.0  1.234113e+07   \n",
       "75%      2.000000   81.000000  148500.000000         2.0  1.234119e+07   \n",
       "max      4.000000  148.000000  172000.000000         2.0  1.234125e+07   \n",
       "\n",
       "       Predicted_SalePrice  \n",
       "count           801.000000  \n",
       "mean         183979.283396  \n",
       "std           81495.168320  \n",
       "min           35147.000000  \n",
       "25%          125890.000000  \n",
       "50%          168627.000000  \n",
       "75%          222871.000000  \n",
       "max          644879.000000  "
      ]
     },
     "execution_count": 34,
     "metadata": {},
     "output_type": "execute_result"
    }
   ],
   "source": [
    "df3.describe()"
   ]
  },
  {
   "cell_type": "code",
   "execution_count": 35,
   "metadata": {},
   "outputs": [],
   "source": [
    "# # Cluster 3 Analysis\n",
    "# - Mean : The mean of overquall is is 6.84, grlivarea is 1741, garagecars 2.10, ageofhouse 30 years, saleprice 215244\n",
    "# - Std dev : The std dev of overquall is 0.86, grlivarea is 389, garagecars 0.46, ageofhouse 22 years, saleprice 33403\n",
    "# - Mode : The mode of overquall is 7, grlivarea is 1655, garagecars 2, ageofhouse 21 years, saleprice 239250"
   ]
  },
  {
   "cell_type": "code",
   "execution_count": 36,
   "metadata": {},
   "outputs": [
    {
     "data": {
      "image/png": "[encoded data removed]",
      "text/plain": [
       "<Figure size 576x432 with 1 Axes>"
      ]
     },
     "metadata": {
      "needs_background": "light"
     },
     "output_type": "display_data"
    }
   ],
   "source": [
    "# Histogram of target variable\n",
    "plt.figure(figsize=(8,6))\n",
    "plt.xlabel(\"Sale Price\", fontsize=15)\n",
    "plt.ylabel(\"Frequency\", fontsize=15)\n",
    "plt.title(\"Sale Price Frequency Distribution of Cluster 1\", fontsize=15)\n",
    "plt.hist(df1[\"saleprice\"], color= \"blue\")\n",
    "plt.savefig(\"E://Graphs//hist1.png\")\n",
    "plt.show()"
   ]
  },
  {
   "cell_type": "code",
   "execution_count": 37,
   "metadata": {},
   "outputs": [
    {
     "data": {
      "image/png": "[encoded data removed]",
      "text/plain": [
       "<Figure size 576x432 with 1 Axes>"
      ]
     },
     "metadata": {
      "needs_background": "light"
     },
     "output_type": "display_data"
    }
   ],
   "source": [
    "# Histogram of target variable\n",
    "plt.figure(figsize=(8,6))\n",
    "plt.xlabel(\"Sale Price\", fontsize=15)\n",
    "plt.ylabel(\"Frequency\", fontsize=15)\n",
    "plt.title(\"Sale Price Frequency Distribution of Cluster 2\", fontsize=15)\n",
    "plt.hist(df2[\"saleprice\"], color= \"blue\")\n",
    "plt.savefig(\"E://Graphs//hist2.png\")\n",
    "plt.show()"
   ]
  },
  {
   "cell_type": "code",
   "execution_count": 38,
   "metadata": {},
   "outputs": [
    {
     "data": {
      "image/png": "[encoded data removed]",
      "text/plain": [
       "<Figure size 576x432 with 1 Axes>"
      ]
     },
     "metadata": {
      "needs_background": "light"
     },
     "output_type": "display_data"
    }
   ],
   "source": [
    "# Histogram of target variable\n",
    "plt.figure(figsize=(8,6))\n",
    "plt.xlabel(\"Sale Price\", fontsize=15)\n",
    "plt.ylabel(\"Frequency\", fontsize=15)\n",
    "plt.title(\"Sale Price Frequency Distribution of Cluster 3\", fontsize=15)\n",
    "plt.hist(df3[\"saleprice\"], color= \"blue\")\n",
    "plt.savefig(\"E://Graphs//hist3.png\")\n",
    "plt.show()"
   ]
  },
  {
   "cell_type": "markdown",
   "metadata": {},
   "source": [
    "# Random Forest Regression"
   ]
  },
  {
   "cell_type": "code",
   "execution_count": 39,
   "metadata": {},
   "outputs": [],
   "source": [
    "import numpy as np\n",
    "import pandas as pd\n",
    "from sklearn.model_selection import train_test_split\n",
    "from sklearn.ensemble import RandomForestRegressor\n",
    "from sklearn.metrics import r2_score,mean_squared_error\n",
    "from sklearn.preprocessing import StandardScaler\n",
    "from sklearn.ensemble import RandomForestRegressor\n",
    "from sklearn.preprocessing import StandardScaler\n",
    "from sklearn import metrics\n",
    "\n",
    "import seaborn as sns"
   ]
  },
  {
   "cell_type": "code",
   "execution_count": 40,
   "metadata": {},
   "outputs": [],
   "source": [
    "# Import dataframe\n",
    "df = pd.read_csv(\"E:\\\\Mozila Firefox\\\\train_data.csv\")"
   ]
  },
  {
   "cell_type": "code",
   "execution_count": 41,
   "metadata": {},
   "outputs": [
    {
     "data": {
      "text/html": [
       "<div>\n",
       "<style scoped>\n",
       "    .dataframe tbody tr th:only-of-type {\n",
       "        vertical-align: middle;\n",
       "    }\n",
       "\n",
       "    .dataframe tbody tr th {\n",
       "        vertical-align: top;\n",
       "    }\n",
       "\n",
       "    .dataframe thead th {\n",
       "        text-align: right;\n",
       "    }\n",
       "</style>\n",
       "<table border=\"1\" class=\"dataframe\">\n",
       "  <thead>\n",
       "    <tr style=\"text-align: right;\">\n",
       "      <th></th>\n",
       "      <th>id</th>\n",
       "      <th>txnrefid</th>\n",
       "      <th>custno</th>\n",
       "      <th>acctno</th>\n",
       "      <th>channelcode</th>\n",
       "      <th>overallqual</th>\n",
       "      <th>grlivarea</th>\n",
       "      <th>garagecars</th>\n",
       "      <th>ageofhouse</th>\n",
       "      <th>saleprice</th>\n",
       "    </tr>\n",
       "  </thead>\n",
       "  <tbody>\n",
       "    <tr>\n",
       "      <th>0</th>\n",
       "      <td>1000</td>\n",
       "      <td>18ba263b-25c0-4b25-a57d-531c8a8098ff</td>\n",
       "      <td>12341198</td>\n",
       "      <td>45671880</td>\n",
       "      <td>LOAN</td>\n",
       "      <td>7</td>\n",
       "      <td>1710</td>\n",
       "      <td>2</td>\n",
       "      <td>17</td>\n",
       "      <td>208500</td>\n",
       "    </tr>\n",
       "    <tr>\n",
       "      <th>1</th>\n",
       "      <td>1001</td>\n",
       "      <td>5c154349-6e96-4785-ac9a-414bdc5017d6</td>\n",
       "      <td>12341086</td>\n",
       "      <td>45671557</td>\n",
       "      <td>LOAN</td>\n",
       "      <td>6</td>\n",
       "      <td>1262</td>\n",
       "      <td>2</td>\n",
       "      <td>44</td>\n",
       "      <td>181500</td>\n",
       "    </tr>\n",
       "    <tr>\n",
       "      <th>2</th>\n",
       "      <td>1002</td>\n",
       "      <td>43ef5bc1-2ec8-4e74-ac17-ac33b429a47e</td>\n",
       "      <td>12341187</td>\n",
       "      <td>45671158</td>\n",
       "      <td>LOAN</td>\n",
       "      <td>7</td>\n",
       "      <td>1786</td>\n",
       "      <td>2</td>\n",
       "      <td>19</td>\n",
       "      <td>223500</td>\n",
       "    </tr>\n",
       "    <tr>\n",
       "      <th>3</th>\n",
       "      <td>1003</td>\n",
       "      <td>b0e41298-a0c3-4a0f-8e54-6be5523cfeae</td>\n",
       "      <td>12341242</td>\n",
       "      <td>45671999</td>\n",
       "      <td>LOAN</td>\n",
       "      <td>7</td>\n",
       "      <td>1717</td>\n",
       "      <td>3</td>\n",
       "      <td>105</td>\n",
       "      <td>140000</td>\n",
       "    </tr>\n",
       "    <tr>\n",
       "      <th>4</th>\n",
       "      <td>1004</td>\n",
       "      <td>ba177687-6c1c-4548-9481-ccb9b25eea07</td>\n",
       "      <td>12341047</td>\n",
       "      <td>45671584</td>\n",
       "      <td>LOAN</td>\n",
       "      <td>8</td>\n",
       "      <td>2198</td>\n",
       "      <td>3</td>\n",
       "      <td>20</td>\n",
       "      <td>250000</td>\n",
       "    </tr>\n",
       "  </tbody>\n",
       "</table>\n",
       "</div>"
      ],
      "text/plain": [
       "     id                              txnrefid    custno    acctno channelcode  \\\n",
       "0  1000  18ba263b-25c0-4b25-a57d-531c8a8098ff  12341198  45671880        LOAN   \n",
       "1  1001  5c154349-6e96-4785-ac9a-414bdc5017d6  12341086  45671557        LOAN   \n",
       "2  1002  43ef5bc1-2ec8-4e74-ac17-ac33b429a47e  12341187  45671158        LOAN   \n",
       "3  1003  b0e41298-a0c3-4a0f-8e54-6be5523cfeae  12341242  45671999        LOAN   \n",
       "4  1004  ba177687-6c1c-4548-9481-ccb9b25eea07  12341047  45671584        LOAN   \n",
       "\n",
       "   overallqual  grlivarea  garagecars  ageofhouse  saleprice  \n",
       "0            7       1710           2          17     208500  \n",
       "1            6       1262           2          44     181500  \n",
       "2            7       1786           2          19     223500  \n",
       "3            7       1717           3         105     140000  \n",
       "4            8       2198           3          20     250000  "
      ]
     },
     "execution_count": 41,
     "metadata": {},
     "output_type": "execute_result"
    }
   ],
   "source": [
    "df.head()"
   ]
  },
  {
   "cell_type": "code",
   "execution_count": 42,
   "metadata": {},
   "outputs": [],
   "source": [
    "x= df[[\"overallqual\", \"grlivarea\", \"garagecars\", \"ageofhouse\"]]"
   ]
  },
  {
   "cell_type": "code",
   "execution_count": 43,
   "metadata": {},
   "outputs": [],
   "source": [
    "y = df[\"saleprice\"]"
   ]
  },
  {
   "cell_type": "code",
   "execution_count": 44,
   "metadata": {},
   "outputs": [],
   "source": [
    "X_train, X_test, y_train, y_test = train_test_split(x, y, test_size=0.2, random_state=0)"
   ]
  },
  {
   "cell_type": "code",
   "execution_count": 45,
   "metadata": {},
   "outputs": [],
   "source": [
    "# Feature Scaling\n",
    "sc = StandardScaler()\n",
    "X_train = sc.fit_transform(X_train)\n",
    "X_test = sc.transform(X_test)"
   ]
  },
  {
   "cell_type": "code",
   "execution_count": 46,
   "metadata": {},
   "outputs": [],
   "source": [
    "regressor = RandomForestRegressor(n_estimators=20, random_state=0)\n",
    "regressor.fit(X_train, y_train)\n",
    "y_pred = regressor.predict(X_test)"
   ]
  },
  {
   "cell_type": "code",
   "execution_count": 47,
   "metadata": {},
   "outputs": [
    {
     "name": "stdout",
     "output_type": "stream",
     "text": [
      "Mean Absolute Error: 22870.361731898236\n",
      "Mean Squared Error: 1308423083.8956306\n",
      "Root Mean Squared Error: 36172.131315359766\n"
     ]
    }
   ],
   "source": [
    "print('Mean Absolute Error:', metrics.mean_absolute_error(y_test, y_pred))\n",
    "print('Mean Squared Error:', metrics.mean_squared_error(y_test, y_pred))\n",
    "print('Root Mean Squared Error:', np.sqrt(metrics.mean_squared_error(y_test, y_pred)))"
   ]
  },
  {
   "cell_type": "code",
   "execution_count": 48,
   "metadata": {},
   "outputs": [
    {
     "data": {
      "text/plain": [
       "['overallqual', 'grlivarea', 'garagecars', 'ageofhouse']"
      ]
     },
     "execution_count": 48,
     "metadata": {},
     "output_type": "execute_result"
    }
   ],
   "source": [
    "feature_list = list(x.columns)\n",
    "feature_list"
   ]
  },
  {
   "cell_type": "code",
   "execution_count": 49,
   "metadata": {},
   "outputs": [
    {
     "name": "stdout",
     "output_type": "stream",
     "text": [
      "overallqual = 0.6395328999281678\n",
      "grlivarea = 0.23025269317897254\n",
      "garagecars = 0.044701302925887636\n",
      "ageofhouse = 0.0855131039669721\n"
     ]
    }
   ],
   "source": [
    "for name, importance in zip(feature_list, regressor.feature_importances_):\n",
    "    print(name, \"=\", importance)"
   ]
  },
  {
   "cell_type": "code",
   "execution_count": 50,
   "metadata": {},
   "outputs": [
    {
     "data": {
      "image/png": "[encoded data removed]",
      "text/plain": [
       "<Figure size 720x576 with 1 Axes>"
      ]
     },
     "metadata": {
      "needs_background": "light"
     },
     "output_type": "display_data"
    }
   ],
   "source": [
    "features = feature_list\n",
    "importances = regressor.feature_importances_\n",
    "indices = np.argsort(importances)\n",
    "\n",
    "plt.figure(figsize=(10,8))\n",
    "plt.title('Feature Importances', fontsize= 12)\n",
    "plt.barh(range(len(indices)), importances[indices], color='b', align='center')\n",
    "plt.yticks(range(len(indices)), [features[i] for i in indices], fontsize=12)\n",
    "plt.xlabel('Relative Importance', fontsize= 12)\n",
    "plt.savefig(\"E://Graphs//Variable_Importance.png\")\n",
    "plt.show()"
   ]
  }
 ],
 "metadata": {
  "kernelspec": {
   "display_name": "Python 3",
   "language": "python",
   "name": "python3"
  },
  "language_info": {
   "codemirror_mode": {
    "name": "ipython",
    "version": 3
   },
   "file_extension": ".py",
   "mimetype": "text/x-python",
   "name": "python",
   "nbconvert_exporter": "python",
   "pygments_lexer": "ipython3",
   "version": "3.7.7"
  }
 },
 "nbformat": 4,
 "nbformat_minor": 4
}
